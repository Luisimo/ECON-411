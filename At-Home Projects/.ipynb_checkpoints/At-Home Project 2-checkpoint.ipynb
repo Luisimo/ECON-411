{
 "cells": [
  {
   "cell_type": "markdown",
   "id": "a5dab449",
   "metadata": {},
   "source": [
    "# 1."
   ]
  },
  {
   "cell_type": "code",
   "execution_count": 50,
   "id": "5649913f",
   "metadata": {
    "scrolled": true
   },
   "outputs": [
    {
     "name": "stdout",
     "output_type": "stream",
     "text": [
      "[3, 6, 9, 12, 15, 18, 21, 24, 27, 30, 33, 36, 39, 42, 45, 48, 51, 54, 57, 60, 63, 66, 69, 72, 75, 78, 81, 84, 87, 90, 93, 96, 99, 102, 105, 108, 111, 114, 117, 120, 123, 126, 129, 132, 135, 138, 141, 144, 147, 150, 153, 156, 159, 162, 165, 168, 171, 174, 177, 180, 183, 186, 189, 192, 195, 198, 201, 204, 207, 210, 213, 216, 219, 222, 225, 228, 231, 234, 237, 240, 243, 246, 249, 252, 255, 258, 261, 264, 267, 270, 273, 276, 279, 282, 285, 288, 291, 294, 297, 300]\n"
     ]
    }
   ],
   "source": [
    "list1 = list(range(3,301,3))\n",
    "print(list1)"
   ]
  },
  {
   "cell_type": "markdown",
   "id": "dfaa0cfa",
   "metadata": {},
   "source": [
    "# 2."
   ]
  },
  {
   "cell_type": "code",
   "execution_count": 51,
   "id": "ed487f40",
   "metadata": {},
   "outputs": [
    {
     "name": "stdout",
     "output_type": "stream",
     "text": [
      "3, 6, 9, 12, 15, 18, 21, 24, 27, 30, 33, 36, 39, 42, 45, 48, 51, 54, 57, 60, 63, 66, 69, 72, 75, 78, 81, 84, 87, 90, 93, 96, 99, 102, 105, 108, 111, 114, 117, 120, 123, 126, 129, 132, 135, 138, 141, 144, 147, 150, 153, 156, 159, 162, 165, 168, 171, 174, 177, 180, 183, 186, 189, 192, 195, 198, 201, 204, 207, 210, 213, 216, 219, 222, 225, 228, 231, 234, 237, 240, 243, 246, 249, 252, 255, 258, 261, 264, 267, 270, 273, 276, 279, 282, 285, 288, 291, 294, 297, 300, \n"
     ]
    }
   ],
   "source": [
    "total = \"\"\n",
    "for i in range(3,301,3):\n",
    "    total = total + str(i) + \", \"\n",
    "print(total)"
   ]
  },
  {
   "cell_type": "markdown",
   "id": "2c1553a6",
   "metadata": {},
   "source": [
    "# 3."
   ]
  },
  {
   "cell_type": "code",
   "execution_count": 52,
   "id": "cf9a0865",
   "metadata": {},
   "outputs": [
    {
     "name": "stdout",
     "output_type": "stream",
     "text": [
      "369121518212427303336394245485154576063666972757881848790939699102105108111114117120123126129132135138141144147150153156159162165168171174177180183186189192195198201204207210213216219222225228231234237240243246249252255258261264267270273276279282285288291294297300\n"
     ]
    }
   ],
   "source": [
    "total = \"\"\n",
    "for i in range(3,301,3):\n",
    "    total = total + str(i)\n",
    "print(total)\n"
   ]
  },
  {
   "cell_type": "markdown",
   "id": "dacebf64",
   "metadata": {},
   "source": [
    "# 4."
   ]
  },
  {
   "cell_type": "code",
   "execution_count": 53,
   "id": "f16accf3",
   "metadata": {},
   "outputs": [
    {
     "name": "stdout",
     "output_type": "stream",
     "text": [
      "[300, 297, 294, 291, 288, 285, 282, 279, 276, 273, 270, 267, 264, 261, 258, 255, 252, 249, 246, 243, 240, 237, 234, 231, 228, 225, 222, 219, 216, 213, 210, 207, 204, 201, 198, 195, 192, 189, 186, 183, 180, 177, 174, 171, 168, 165, 162, 159, 156, 153, 150, 147, 144, 141, 138, 135, 132, 129, 126, 123, 120, 117, 114, 111, 108, 105, 102, 99, 96, 93, 90, 87, 84, 81, 78, 75, 72, 69, 66, 63, 60, 57, 54, 51, 48, 45, 42, 39, 36, 33, 30, 27, 24, 21, 18, 15, 12, 9, 6]\n"
     ]
    }
   ],
   "source": [
    "list2 = list(range(3,301,3))\n",
    "list2.sort(reverse=True)\n",
    "list2.pop()\n",
    "print(list2)"
   ]
  },
  {
   "cell_type": "code",
   "execution_count": 54,
   "id": "75950aeb",
   "metadata": {},
   "outputs": [
    {
     "name": "stdout",
     "output_type": "stream",
     "text": [
      "[300, 297, 294, 291, 288, 285, 282, 279, 276, 273, 270, 267, 264, 261, 258, 255, 252, 249, 246, 243, 240, 237, 234, 231, 228, 225, 222, 219, 216, 213, 210, 207, 204, 201, 198, 195, 192, 189, 186, 183, 180, 177, 174, 171, 168, 165, 162, 159, 156, 153, 150, 147, 144, 141, 138, 135, 132, 129, 126, 123, 120, 117, 114, 111, 108, 105, 102, 99, 96, 93, 90, 87, 84, 81, 78, 75, 72, 69, 66, 63, 60, 57, 54, 51, 48, 45, 42, 39, 36, 33, 30, 27, 24, 21, 18, 15, 12, 9, 6, 3]\n"
     ]
    }
   ],
   "source": [
    "list2.append(3)\n",
    "print(list2)"
   ]
  },
  {
   "cell_type": "markdown",
   "id": "97f8e4bf",
   "metadata": {},
   "source": [
    "# 5."
   ]
  },
  {
   "cell_type": "code",
   "execution_count": 55,
   "id": "4390c4de",
   "metadata": {},
   "outputs": [
    {
     "data": {
      "text/plain": [
       "100"
      ]
     },
     "execution_count": 55,
     "metadata": {},
     "output_type": "execute_result"
    }
   ],
   "source": [
    "len(list1)"
   ]
  },
  {
   "cell_type": "code",
   "execution_count": 57,
   "id": "5daeb444",
   "metadata": {
    "scrolled": true
   },
   "outputs": [
    {
     "name": "stdout",
     "output_type": "stream",
     "text": [
      "i val\n",
      "0 3\n",
      "1 6\n",
      "2 9\n",
      "3 12\n",
      "4 15\n",
      "5 18\n",
      "6 21\n",
      "7 24\n",
      "8 27\n",
      "9 30\n",
      "10 33\n",
      "11 36\n",
      "12 39\n",
      "13 42\n",
      "14 45\n",
      "15 48\n",
      "16 51\n",
      "17 54\n",
      "18 57\n",
      "19 60\n",
      "20 63\n",
      "21 66\n",
      "22 69\n",
      "23 72\n",
      "24 75\n",
      "25 78\n",
      "26 81\n",
      "27 84\n",
      "28 87\n",
      "29 90\n",
      "30 93\n",
      "31 96\n",
      "32 99\n",
      "33 102\n",
      "34 105\n",
      "35 108\n",
      "36 111\n",
      "37 114\n",
      "38 117\n",
      "39 120\n",
      "40 123\n",
      "41 126\n",
      "42 129\n",
      "43 132\n",
      "44 135\n",
      "45 138\n",
      "46 141\n",
      "47 144\n",
      "48 147\n",
      "49 150\n",
      "50 153\n",
      "51 156\n",
      "52 159\n",
      "53 162\n",
      "54 165\n",
      "55 168\n",
      "56 171\n",
      "57 174\n",
      "58 177\n",
      "59 180\n",
      "60 183\n",
      "61 186\n",
      "62 189\n",
      "63 192\n",
      "64 195\n",
      "65 198\n",
      "66 201\n",
      "67 204\n",
      "68 207\n",
      "69 210\n",
      "70 213\n",
      "71 216\n",
      "72 219\n",
      "73 222\n",
      "74 225\n",
      "75 228\n",
      "76 231\n",
      "77 234\n",
      "78 237\n",
      "79 240\n",
      "80 243\n",
      "81 246\n",
      "82 249\n",
      "83 252\n",
      "84 255\n",
      "85 258\n",
      "86 261\n",
      "87 264\n",
      "88 267\n",
      "89 270\n",
      "90 273\n",
      "91 276\n",
      "92 279\n",
      "93 282\n",
      "94 285\n",
      "95 288\n",
      "96 291\n",
      "97 294\n",
      "98 297\n",
      "99 300\n"
     ]
    }
   ],
   "source": [
    "list1_len = len(list1)\n",
    "print(\"i\",\"val\")\n",
    "for i in range(list1_len):\n",
    "    print(i,list1[i])\n",
    "# from values 0-99, 49 is the middle. the 49th value is 150"
   ]
  },
  {
   "cell_type": "markdown",
   "id": "dbe03c6e",
   "metadata": {},
   "source": [
    "# 6."
   ]
  },
  {
   "cell_type": "code",
   "execution_count": 85,
   "id": "e92100f0",
   "metadata": {
    "scrolled": true
   },
   "outputs": [
    {
     "name": "stdout",
     "output_type": "stream",
     "text": [
      "[3, 9, 15, 21, 27, 33, 39, 45, 51, 57, 63, 69, 75, 81, 87, 93, 99, 105, 111, 117, 123, 129, 135, 141, 147, 153, 159, 165, 171, 177, 183, 189, 195, 201, 207, 213, 219, 225, 231, 237, 243, 249, 255, 261, 267, 273, 279, 285, 291, 297]\n"
     ]
    }
   ],
   "source": [
    "print(list1[::2])"
   ]
  },
  {
   "cell_type": "markdown",
   "id": "ea7d7548",
   "metadata": {},
   "source": [
    "# 7."
   ]
  },
  {
   "cell_type": "markdown",
   "id": "b2a45e72",
   "metadata": {},
   "source": [
    "List are dynamic while tuples are static. This means that list are able to be modified while tuples can't."
   ]
  },
  {
   "cell_type": "code",
   "execution_count": null,
   "id": "bc7e712b",
   "metadata": {},
   "outputs": [],
   "source": []
  }
 ],
 "metadata": {
  "kernelspec": {
   "display_name": "Python 3 (ipykernel)",
   "language": "python",
   "name": "python3"
  },
  "language_info": {
   "codemirror_mode": {
    "name": "ipython",
    "version": 3
   },
   "file_extension": ".py",
   "mimetype": "text/x-python",
   "name": "python",
   "nbconvert_exporter": "python",
   "pygments_lexer": "ipython3",
   "version": "3.9.13"
  }
 },
 "nbformat": 4,
 "nbformat_minor": 5
}
