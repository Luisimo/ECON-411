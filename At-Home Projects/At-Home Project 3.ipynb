{
 "cells": [
  {
   "cell_type": "code",
   "execution_count": 1,
   "id": "40333f1c",
   "metadata": {},
   "outputs": [],
   "source": [
    "import pandas as pd"
   ]
  },
  {
   "cell_type": "code",
   "execution_count": 24,
   "id": "23955729",
   "metadata": {},
   "outputs": [
    {
     "data": {
      "text/plain": [
       "{'Kurezco, Maxx': {'Area of Expertise': 'Mathematics',\n",
       "  'Short Biography': 'Maxx is a Lecturer at North Dakota State University. The main classes he teaches are Mathematics for Business and Applied Calculus I. Some of his interests are mathematical biology, applied mathematics, virology and immunology, gardening, video games, and investing.',\n",
       "  'Website/Social Media': 'https://www.ndsu.edu/pubweb/~kureczko/'},\n",
       " 'Grande, Ariana': {'Area of Expertise': 'Singer, Songwrite, Actress',\n",
       "  'Short Biography': \"Grande began her music career at age 15 in the 2008 Broadway musical '13'. She rose to fame after playing the role of Cat Valentine in Nickelodean show 'Victorious' and 'Sam & Cat'. She released her debut album 'Yours Truly' in 2008 which topped the US Billboard 200. She went on to realease 5 more albums over the course of 12 years. In November 2021, it was announced that Grande would play Glinda for the upcoming two-part film adaptation of the musical 'Wicked'. \",\n",
       "  'Website/Social Media': '@arianagrande'},\n",
       " 'Eilish, Billie': {'Area of Expertise': 'Singer, Songwriter',\n",
       "  'Short Biography': \"Eilish first gained public attention in 2015 with her debut single 'Ocean Eyes'. In 2017, she released her debut EP 'Don't Smile at Me' which reached the top 15 or record charts in multiple countries. Her first studio album, 'When We All Fall Asleep, Where Do We Go?', released in 2019, debuted atop the US Billboard 200. The album garnered her 5 Grammies at the 62nd Grammy Awards.\",\n",
       "  'Website/Social Media': '@billieeilish'},\n",
       " 'Fu, Leslie': {'Area of Expertise': 'Live Streamer, Brand Ambassador',\n",
       "  'Short Biography': \"Fu, known as Fuslie, began streaming on Twitch in Febuary 2015 and in 2020 signed and exclusive contract with Twitch. In May 2021, Fu announced she joined the gaming organization '100 Thieves' as a content creator. In 2021, she was nominated for Content Creator of the Year at The Game Awards and in 2022 was nominated for Best GTA Role-Play Streamer at The Streamer Awards. In 2022, Fu announced the signing of an exclusive streaming contract for YouTube.\",\n",
       "  'Website/Social Media': '@fuslie'},\n",
       " 'Hofstetter, Rachell': {'Area of Expertise': 'Live Streamer, Brand Ambassador',\n",
       "  'Short Biography': \"Hofstetter, known as Valkyrae, has been YouTube's most-watched female streamer since 2020, and has appeared on Forbes' 30 Under 30 list in 2022. Hofstetter began streaming on Twitch in 2015 and in 2018 she became the first female gamer and content creator for 100 Thieves, and American esports team. In 2020, Hofstetter was signed to an exlusive YouTube streaming contract. She quickly became the fastest growing streamer of the year and would go on to regularly peak over 100,000 concurrent live viewers the end of 2020. In April 2021, Hofstetter would announce her co-ownership of 100 Thieves. Hofstetter won Content Creator of the Year at the 2020 Game Awards and Livestreamer of the Year at the 11th Streamy Awards.\",\n",
       "  'Website/Social Media': '@valkyrae'},\n",
       " 'Rapp, Reneé': {'Area of Expertise': 'Actress, Singer',\n",
       "  'Short Biography': \"In 2018 Rapp won the Jimmy Award for Best Performance by an Actress and subsequently took over the role of Regina George in the Broadway musical 'Mean Girls'. In 2020, Rapp was cast as Leighton, one of the four leads, in 'The Sex Lives of College Girls'on HBO Max. In 2022, it was announced that Rapp would reprise her role as Regina George in a movie adaptation of the 'Mean Girls' musical. Also in 2022, Rapp released her first EP, titled 'Everything to Everyone'.\",\n",
       "  'Website/Social Media': '@reneerapp'}}"
      ]
     },
     "execution_count": 24,
     "metadata": {},
     "output_type": "execute_result"
    }
   ],
   "source": [
    "# 10 professionals. include Name, Area of Expertise, Biography, Link to Website\n",
    "professionals_dct = {\"Kurezco, Maxx\":{\"Area of Expertise\":\"Mathematics\",\n",
    "                                     \"Short Biography\":\"Maxx is a Lecturer at North Dakota State University. The main classes he teaches are Mathematics for Business and Applied Calculus I. Some of his interests are mathematical biology, applied mathematics, virology and immunology, gardening, video games, and investing.\",\n",
    "                                     \"Website/Social Media\":\"https://www.ndsu.edu/pubweb/~kureczko/\"},\n",
    "                    \"Grande, Ariana\":{\"Area of Expertise\":\"Singer, Songwrite, Actress\",\n",
    "                                     \"Short Biography\":\"Grande began her music career at age 15 in the 2008 Broadway musical '13'. She rose to fame after playing the role of Cat Valentine in Nickelodean show 'Victorious' and 'Sam & Cat'. She released her debut album 'Yours Truly' in 2008 which topped the US Billboard 200. She went on to realease 5 more albums over the course of 12 years. In November 2021, it was announced that Grande would play Glinda for the upcoming two-part film adaptation of the musical 'Wicked'. \",\n",
    "                                     \"Website/Social Media\":\"@arianagrande\"},\n",
    "                    \"Eilish, Billie\":{\"Area of Expertise\":\"Singer, Songwriter\",\n",
    "                                     \"Short Biography\":\"Eilish first gained public attention in 2015 with her debut single 'Ocean Eyes'. In 2017, she released her debut EP 'Don't Smile at Me' which reached the top 15 or record charts in multiple countries. Her first studio album, 'When We All Fall Asleep, Where Do We Go?', released in 2019, debuted atop the US Billboard 200. The album garnered her 5 Grammies at the 62nd Grammy Awards.\",\n",
    "                                     \"Website/Social Media\":\"@billieeilish\"},\n",
    "                    \"Fu, Leslie\":{\"Area of Expertise\":\"Live Streamer, Brand Ambassador\",\n",
    "                                     \"Short Biography\":\"Fu, known as Fuslie, began streaming on Twitch in Febuary 2015 and in 2020 signed and exclusive contract with Twitch. In May 2021, Fu announced she joined the gaming organization '100 Thieves' as a content creator. In 2021, she was nominated for Content Creator of the Year at The Game Awards and in 2022 was nominated for Best GTA Role-Play Streamer at The Streamer Awards. In 2022, Fu announced the signing of an exclusive streaming contract for YouTube.\",\n",
    "                                     \"Website/Social Media\":\"@fuslie\"},\n",
    "                    \"Hofstetter, Rachell\":{\"Area of Expertise\":\"Live Streamer, Brand Ambassador\",\n",
    "                                     \"Short Biography\":\"Hofstetter, known as Valkyrae, has been YouTube's most-watched female streamer since 2020, and has appeared on Forbes' 30 Under 30 list in 2022. Hofstetter began streaming on Twitch in 2015 and in 2018 she became the first female gamer and content creator for 100 Thieves, and American esports team. In 2020, Hofstetter was signed to an exlusive YouTube streaming contract. She quickly became the fastest growing streamer of the year and would go on to regularly peak over 100,000 concurrent live viewers the end of 2020. In April 2021, Hofstetter would announce her co-ownership of 100 Thieves. Hofstetter won Content Creator of the Year at the 2020 Game Awards and Livestreamer of the Year at the 11th Streamy Awards.\",\n",
    "                                     \"Website/Social Media\":\"@valkyrae\"},\n",
    "                    \"Rapp, Reneé\":{\"Area of Expertise\":\"Actress, Singer\",\n",
    "                                     \"Short Biography\":\"In 2018 Rapp won the Jimmy Award for Best Performance by an Actress and subsequently took over the role of Regina George in the Broadway musical 'Mean Girls'. In 2020, Rapp was cast as Leighton, one of the four leads, in 'The Sex Lives of College Girls'on HBO Max. In 2022, it was announced that Rapp would reprise her role as Regina George in a movie adaptation of the 'Mean Girls' musical. Also in 2022, Rapp released her first EP, titled 'Everything to Everyone'.\",\n",
    "                                     \"Website/Social Media\":\"@reneerapp\"},}\n",
    "professionals_dct"
   ]
  },
  {
   "cell_type": "code",
   "execution_count": 25,
   "id": "f2ba03b7",
   "metadata": {
    "scrolled": true
   },
   "outputs": [
    {
     "data": {
      "text/html": [
       "<div>\n",
       "<style scoped>\n",
       "    .dataframe tbody tr th:only-of-type {\n",
       "        vertical-align: middle;\n",
       "    }\n",
       "\n",
       "    .dataframe tbody tr th {\n",
       "        vertical-align: top;\n",
       "    }\n",
       "\n",
       "    .dataframe thead th {\n",
       "        text-align: right;\n",
       "    }\n",
       "</style>\n",
       "<table border=\"1\" class=\"dataframe\">\n",
       "  <thead>\n",
       "    <tr style=\"text-align: right;\">\n",
       "      <th></th>\n",
       "      <th>Area of Expertise</th>\n",
       "      <th>Short Biography</th>\n",
       "      <th>Website/Social Media</th>\n",
       "    </tr>\n",
       "  </thead>\n",
       "  <tbody>\n",
       "    <tr>\n",
       "      <th>Kurezco, Maxx</th>\n",
       "      <td>Mathematics</td>\n",
       "      <td>Maxx is a Lecturer at North Dakota State Unive...</td>\n",
       "      <td>https://www.ndsu.edu/pubweb/~kureczko/</td>\n",
       "    </tr>\n",
       "    <tr>\n",
       "      <th>Grande, Ariana</th>\n",
       "      <td>Singer, Songwrite, Actress</td>\n",
       "      <td>Grande began her music career at age 15 in the...</td>\n",
       "      <td>@arianagrande</td>\n",
       "    </tr>\n",
       "    <tr>\n",
       "      <th>Eilish, Billie</th>\n",
       "      <td>Singer, Songwriter</td>\n",
       "      <td>Eilish first gained public attention in 2015 w...</td>\n",
       "      <td>@billieeilish</td>\n",
       "    </tr>\n",
       "    <tr>\n",
       "      <th>Fu, Leslie</th>\n",
       "      <td>Live Streamer, Brand Ambassador</td>\n",
       "      <td>Fu, known as Fuslie, began streaming on Twitch...</td>\n",
       "      <td>@fuslie</td>\n",
       "    </tr>\n",
       "    <tr>\n",
       "      <th>Hofstetter, Rachell</th>\n",
       "      <td>Live Streamer, Brand Ambassador</td>\n",
       "      <td>Hofstetter, known as Valkyrae, has been YouTub...</td>\n",
       "      <td>@valkyrae</td>\n",
       "    </tr>\n",
       "    <tr>\n",
       "      <th>Rapp, Reneé</th>\n",
       "      <td>Actress, Singer</td>\n",
       "      <td>In 2018 Rapp won the Jimmy Award for Best Perf...</td>\n",
       "      <td>@reneerapp</td>\n",
       "    </tr>\n",
       "  </tbody>\n",
       "</table>\n",
       "</div>"
      ],
      "text/plain": [
       "                                   Area of Expertise  \\\n",
       "Kurezco, Maxx                            Mathematics   \n",
       "Grande, Ariana            Singer, Songwrite, Actress   \n",
       "Eilish, Billie                    Singer, Songwriter   \n",
       "Fu, Leslie           Live Streamer, Brand Ambassador   \n",
       "Hofstetter, Rachell  Live Streamer, Brand Ambassador   \n",
       "Rapp, Reneé                          Actress, Singer   \n",
       "\n",
       "                                                       Short Biography  \\\n",
       "Kurezco, Maxx        Maxx is a Lecturer at North Dakota State Unive...   \n",
       "Grande, Ariana       Grande began her music career at age 15 in the...   \n",
       "Eilish, Billie       Eilish first gained public attention in 2015 w...   \n",
       "Fu, Leslie           Fu, known as Fuslie, began streaming on Twitch...   \n",
       "Hofstetter, Rachell  Hofstetter, known as Valkyrae, has been YouTub...   \n",
       "Rapp, Reneé          In 2018 Rapp won the Jimmy Award for Best Perf...   \n",
       "\n",
       "                                       Website/Social Media  \n",
       "Kurezco, Maxx        https://www.ndsu.edu/pubweb/~kureczko/  \n",
       "Grande, Ariana                                @arianagrande  \n",
       "Eilish, Billie                                @billieeilish  \n",
       "Fu, Leslie                                          @fuslie  \n",
       "Hofstetter, Rachell                               @valkyrae  \n",
       "Rapp, Reneé                                      @reneerapp  "
      ]
     },
     "execution_count": 25,
     "metadata": {},
     "output_type": "execute_result"
    }
   ],
   "source": [
    "professionals_df = pd.DataFrame(professionals_dct)\n",
    "professionals_df.T"
   ]
  },
  {
   "cell_type": "code",
   "execution_count": null,
   "id": "48359c2a",
   "metadata": {},
   "outputs": [],
   "source": []
  }
 ],
 "metadata": {
  "kernelspec": {
   "display_name": "Python 3 (ipykernel)",
   "language": "python",
   "name": "python3"
  },
  "language_info": {
   "codemirror_mode": {
    "name": "ipython",
    "version": 3
   },
   "file_extension": ".py",
   "mimetype": "text/x-python",
   "name": "python",
   "nbconvert_exporter": "python",
   "pygments_lexer": "ipython3",
   "version": "3.9.13"
  }
 },
 "nbformat": 4,
 "nbformat_minor": 5
}
