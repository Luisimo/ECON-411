{
 "cells": [
  {
   "cell_type": "markdown",
   "id": "3149c701",
   "metadata": {},
   "source": [
    "My project will focus on gas prices. In the last few years, with covid and now the war with Russia and Ukraine, gas prices have fluctuated greatly. I have always been curious to understand further the causes of gas price fluctuations. It is clear that covid and the Russian/Ukrainian war have caused drastic changes in the price of gas, but I wonder what specifically about these events affect the prices seen at the pump. I'm also curious to examine common misconceptions that peopole have about the causes of gas price changes."
   ]
  },
  {
   "cell_type": "markdown",
   "id": "b63bda18",
   "metadata": {},
   "source": [
    "\"Global Price of Brent Crude\" - Dataset from FRED: https://fred.stlouisfed.org/series/POILBREUSDM"
   ]
  }
 ],
 "metadata": {
  "kernelspec": {
   "display_name": "Python 3 (ipykernel)",
   "language": "python",
   "name": "python3"
  },
  "language_info": {
   "codemirror_mode": {
    "name": "ipython",
    "version": 3
   },
   "file_extension": ".py",
   "mimetype": "text/x-python",
   "name": "python",
   "nbconvert_exporter": "python",
   "pygments_lexer": "ipython3",
   "version": "3.9.13"
  }
 },
 "nbformat": 4,
 "nbformat_minor": 5
}
