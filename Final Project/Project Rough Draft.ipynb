{
 "cells": [
  {
   "cell_type": "markdown",
   "id": "24f4e77e",
   "metadata": {},
   "source": [
    "# Project Draft: Examining the Cause of Gas Price Fluctuation"
   ]
  },
  {
   "cell_type": "markdown",
   "id": "27a49d55",
   "metadata": {},
   "source": [
    "Major fluctuations in gas prices have always been somewhat of a mystery to me. Slight changes in prices at the pump, whether they are up or down, are normal and can be seen even daily, but there have been quite a few major events since the year 2000 that have caused much more substantial dips or jump in the price of crude oil and eventually the price of gasoline at the pump. Events that will be examined further within this writing are the September 11, 2001, terrorist attacks, the 2008 global financial crisis, the 2020 lockdown orders as a result of the COVID-19 pandemic, and, most recently, the war between Russia and Ukraine. What is it about these events that are causing these changes in the price of crude oil? There are also instances of people believing gas prices are being affected by specific events when that isn’t necessarily the case. For example, the cancelation of the Keystone Pipeline in June 2021 was blamed for a spike in the price of gas which was found to be false. Are there other events like this being blamed for price changes when the cause is something else entirely? These are questions I’m hoping to find answers to through research and the examination of relevant datasets. \n",
    "\n",
    "Global 2008 Financial Crisis\n",
    "\n",
    "From 2004 to mid-2008, the price of oil rose to historic heights, only to fall drastically in the last quarter of 2008. This massive drop in oil prices essentially erased all price growth of the preceding four and a half years. The steepest price increase, seen from January 2007 to July 2008, was a difficult time for all economies. When prices began dropping quickly in August of 2008, it was a welcome sight by consumers, however, the cause of this decline was not as such. The global financial crisis hit its hardest beginning in the last quarter of 2008, hence the observed decline in oil prices. In mid-2008, crude oil prices reached a record-breaking high of around \\\\$140 per barrel, and in the span of just four months drastically fell down to about \\\\$40 per barrel. This is a massive decrease of 71%. The price per gallon seen at the pump during this time period fell from \\\\$4.11 in July of 2008 to the lowest \\\\$1.75 in December 2008; a 57% decrease. This severe worldwide recession from 2008-2009 drastically reduced economic activity. This reduction in economic activity caused a large decrease in demand for crude oil and other petroleum products, therefore the prices of associated products experienced lower prices until economies began to recover. The price of crude oil per barrel just before the crash was at an all-time high and wouldn’t reach a similar level until April, 2011with a price of \\\\$127 per barrel and again in May 2022 with a price of \\\\$126 per barrel. Both instances are still shy of the price per barrel pre-market crash by about \\\\$13.\n",
    "\n",
    "2015/2016 Dip\n",
    "\n",
    "Another large drop occurred in January 2015 and again in February 2016. The first drop in 2015 was primarily due to supply factors. Another drop was seen in 2016 due to similar reasons. This is something that I will look into further because simply saying prices dropped due to “supply factors” isn’t very explanatory.\n",
    "\n",
    "Covid-19\n",
    "\n",
    "In late 2019 to early 2020, a virus known as covid-19 began spreading across the globe. During the initial stages of the virus’s growth, no one knew just how drastically our lives would be affected in the coming months. Jump ahead to March 2020 and the first states in the U.S. enacting mandated lockdown orders to prevent the spread of the virus, with many countries in Europe and Asia already being in lockdown. This worldwide shutdown had a major impact on the day-to-day lives of nearly everyone. As well as changing the way we all lived personally, the stay-at-home orders drastically affected the world economy. More specifically, these lockdowns had a massive impact on the price of crude oil and subsequently the price observed by consumers at the pump. In December of 2019, shortly before covid had begun impacting the world, crude oil prices were at a high of about \\\\$68 per barrel, or an average of \\\\$2.59 per gallon at the pump. After the virus hit hard and lockdowns had been put into place, crude oil price per barrel dropped to a low of about \\\\$15, or an average of $ 1.88 per gallon seen by consumers. This was the lowest crude oil price per barrel experienced since February of 1999. It wouldn’t be until April 2021, over a full year later since U.S. lockdowns began, that crude oil prices returned to their original value pre-shutdown. The cause of this decrease in crude oil price is much simpler when compared to the causes of other drops. This is a textbook case of supply and demand rules. In December of 2019, nearly \\\\$43.9 billion was purchased by consumers. After strict lockdowns were put in place, this value dropped to its lowest value \\\\$26.9 billion in April 2020, a decrease of nearly 40 percent. This large fall in spending due to lockdown orders caused a sudden decrease in demand for oil. In turn, oil producers were left were a large surplus of crude oil and had no choice but to drastically cut the price per barrel, thus resulting in a subsequential 27 percent decrease in price per gallon at the pump.\n",
    "\n",
    "Russia-Ukraine War\n",
    "\n",
    "An ongoing event affecting the price of gasoline is the war between Russia and Ukraine. At its peak, the price per gallon of gasoline rose to $5.03. While the war first began in February of 2014, the recent invasion of Ukraine by Russia in February 2022 had major effects on the world market. After the invasion of Ukraine, the United States, along with other countries, banned imports of Russian energy. Because Russia is a large supplier of crude oil, after the ban on Russian energy, countries had to resort to getting their oil supplies from other places. This caused a mass increase in oil demand for some places which raised the price of oil per barrel. This in turn caused an increase in prices seen at the pump.\n",
    "\n",
    "Keystone Pipeline\n",
    "\n",
    "In January 2021, the Keystone Pipeline was shut down and would not be built. This was a source of a lot of controversy for a short while. There were many people who believed the rising gas prices at that time was due to the cancelation of the pipeline. In reality, when the pipeline was cancelled it wasn’t yet operational, therefore it had no effect yet on the oil supply. It is likely that the rising price of gas at the time was due to covid lockdown restrictions being removed. As stay-at-home orders were ending, people were beginning to travel more. This rise in travel caused an increase in demand for gasoline which would then raise the price of gas.\n",
    "\n",
    "I intend to examine the ideas listed above further to gain more insight behind the reasons we experience changing prices in gasoline. I’ve looked into the 2008 global financial crisis and the effects of COVID-19 lockdowns in more depth but will continue to gather information. I will continue to gather more information regarding 9/11, the dip in prices in 2015 and 2016, and the effects of the Russia-Ukraine war. I will also continue looking for events that were falsely believed to affect gas prices, such as the cancelation of the Keystone Pipeline.\n",
    "\n",
    "As for data sets, I have one set that shows the price per barrel of crude oil every month, a set that shows the retail price per gallon of gasoline, and I found a third set that shows the monthly amount of money spent on gasoline by consumers. I think that these three datasets will be useful to visualize correlations between buying patterns of consumers and price per gallon of gas. I think it will also be interesting to see when there is a drastic change in the price of crude oil, the rate at which retail price per gallon of gas changes and by how much. I also know that I need to adjust my datasets for inflation and will need a dataset with CPI information to do so. Because of this, the numbers I currently have in my writing will need to be adjusted; I’m curious to see how much adjusting for inflation will change the data. This is something I am continuing to look into.\n",
    "\n",
    "Sources\n",
    "\n",
    "https://fred.stlouisfed.org/series/APU000074714\n",
    "https://fred.stlouisfed.org/series/RSGASS\n",
    "https://fred.stlouisfed.org/series/DCOILBRENTEU\n",
    "https://www.bls.gov/opub/btn/volume-4/pdf/the-2014-plunge-in-import-petroleum-prices-what-happened.pdf\n",
    "https://apnews.com/article/fact-checking-895299166310\n",
    "https://www.brookings.edu/wp-content/uploads/2016/07/2009a_bpea_hamilton-1.pdf\n",
    "https://www.scitepress.org/papers/2015/55969/55969.pdf"
   ]
  },
  {
   "cell_type": "code",
   "execution_count": null,
   "id": "9b82790f",
   "metadata": {},
   "outputs": [],
   "source": []
  }
 ],
 "metadata": {
  "kernelspec": {
   "display_name": "Python 3 (ipykernel)",
   "language": "python",
   "name": "python3"
  },
  "language_info": {
   "codemirror_mode": {
    "name": "ipython",
    "version": 3
   },
   "file_extension": ".py",
   "mimetype": "text/x-python",
   "name": "python",
   "nbconvert_exporter": "python",
   "pygments_lexer": "ipython3",
   "version": "3.9.13"
  }
 },
 "nbformat": 4,
 "nbformat_minor": 5
}
